{
 "cells": [
  {
   "cell_type": "code",
   "execution_count": 10,
   "metadata": {},
   "outputs": [],
   "source": [
    "import os\n",
    "from dotenv import load_dotenv\n",
    "load_dotenv(override=True)\n",
    "\n",
    "openai_api_key = os.getenv(\"OPENAI_API_KEY\")\n",
    "\n",
    "import json\n",
    "from IPython.display import display, Markdown, HTML\n",
    "from openai import OpenAI\n",
    "\n",
    "client = OpenAI(api_key=openai_api_key)\n",
    "GPT_MODEL = 'gpt-4o-mini'\n",
    "O1_MODEL = 'o1-mini'"
   ]
  },
  {
   "cell_type": "code",
   "execution_count": 11,
   "metadata": {},
   "outputs": [],
   "source": [
    "prompt = (\"How many ways can a player get out?\")\n",
    "response_gpt = client.chat.completions.create(model=GPT_MODEL,messages=[{\"role\":\"user\",\"content\": prompt}])\n",
    "response_o1  = client.chat.completions.create(model=O1_MODEL,messages=[{\"role\":\"user\",\"content\": prompt}])"
   ]
  },
  {
   "cell_type": "code",
   "execution_count": 13,
   "metadata": {},
   "outputs": [
    {
     "data": {
      "text/html": [
       "<div style=\"background-color: #f0fff8; padding: 10px; border-radius: 5px; border: 1px solid #d3d3d3;\"></hr><h2>🔽 &nbsp; Markdown Output – Beginning</h2></hr></div>"
      ],
      "text/plain": [
       "<IPython.core.display.HTML object>"
      ]
     },
     "metadata": {},
     "output_type": "display_data"
    },
    {
     "data": {
      "text/markdown": [
       "In cricket, there are several ways a player can get out. Here are the most common methods:\n",
       "\n",
       "1. **Bowled**: The batsman is out if the ball is bowled and hits the stumps.\n",
       "2. **Caught**: The batsman is out if the ball is caught by a fielder, wicketkeeper, or bowler before it touches the ground.\n",
       "3. **Leg Before Wicket (LBW)**: The batsman is out if they block the ball with their body (usually the legs) in front of the stumps and the ball would have gone on to hit the stumps.\n",
       "4. **Run Out**: The batsman is out if they fail to make their ground while attempting a run and the ball hits the stumps before they arrive.\n",
       "5. **Stumped**: The batsman is out if they step outside the crease while attempting a shot, and the wicketkeeper dislodges the bails with the ball before the batsman returns to the crease.\n",
       "6. **Hit Wicket**: The batsman is out if they accidentally hit the stumps with their bat or body while playing a shot or taking a step.\n",
       "7. **Handled the Ball**: The batsman is out if they deliberately touch the ball with their hand or glove without the permission of the opposing team.\n",
       "8. **Obstructing the Field**: The batsman is out if they deliberately obstruct a fielder by any means.\n",
       "9. **Timed Out**: The batsman is out if they do not come to the wicket within three minutes after the previous batsman is out.\n",
       "\n",
       "These are the main methods of dismissal in cricket. Other less common situations can occur, but the above list covers the principal ways a player can get out."
      ],
      "text/plain": [
       "<IPython.core.display.Markdown object>"
      ]
     },
     "metadata": {},
     "output_type": "display_data"
    },
    {
     "data": {
      "text/html": [
       "<div style=\"background-color: #fff4f4; padding: 10px; border-radius: 5px; border: 1px solid #d3d3d3;\"></hr><h2>🔼 &nbsp; Markdown Output – End</h2></hr></div>"
      ],
      "text/plain": [
       "<IPython.core.display.HTML object>"
      ]
     },
     "metadata": {},
     "output_type": "display_data"
    }
   ],
   "source": [
    "display(HTML('<div style=\"background-color: #f0fff8; padding: 10px; border-radius: 5px; border: 1px solid #d3d3d3;\"></hr><h2>🔽 &nbsp; Markdown Output – Beginning</h2></hr></div>'))\n",
    "display(Markdown(response_gpt.choices[0].message.content))\n",
    "display(HTML('<div style=\"background-color: #fff4f4; padding: 10px; border-radius: 5px; border: 1px solid #d3d3d3;\"></hr><h2>🔼 &nbsp; Markdown Output – End</h2></hr></div>'))"
   ]
  },
  {
   "cell_type": "code",
   "execution_count": 14,
   "metadata": {},
   "outputs": [
    {
     "data": {
      "text/html": [
       "<div style=\"background-color: #f0fff8; padding: 10px; border-radius: 5px; border: 1px solid #d3d3d3;\"></hr><h2>🔽 &nbsp; Markdown Output – Beginning</h2></hr></div>"
      ],
      "text/plain": [
       "<IPython.core.display.HTML object>"
      ]
     },
     "metadata": {},
     "output_type": "display_data"
    },
    {
     "data": {
      "text/markdown": [
       "The number of ways a player can get out depends on the sport in question. Below are the primary methods in two popular bat-and-ball sports: **Cricket** and **Baseball**.\n",
       "\n",
       "---\n",
       "\n",
       "### **Cricket**\n",
       "\n",
       "In cricket, a batsman (the player at bat) can be dismissed in several ways. According to the **Laws of Cricket**, there are **ten recognized modes of dismissal**:\n",
       "\n",
       "1. **Bowled**: The bowler delivers the ball, and it hits the stumps, dislodging at least one bail.\n",
       "\n",
       "2. **Caught**: The batsman hits the ball, and it is caught by a fielder, wicketkeeper, or bowler before it touches the ground.\n",
       "\n",
       "3. **Leg Before Wicket (LBW)**: The ball strikes the batsman’s legs (or other parts of the body except the hand) in line with the stumps, preventing the ball from hitting the wicket.\n",
       "\n",
       "4. **Run Out**: A fielder breaks the wicket with the ball while the batsman is outside the crease attempting a run.\n",
       "\n",
       "5. **Stumped**: The wicketkeeper puts down the wicket while the batsman is out of the crease and not attempting a run, typically after a delivery.\n",
       "\n",
       "6. **Hit Wicket**: The batsman accidentally dislodges the stumps with his body or equipment while playing a shot or setting off for a run.\n",
       "\n",
       "7. **Hit the Ball Twice**: The batsman hits the ball a second time with his bat before the ball has been touched by a fielder, without the permission of the opposition.\n",
       "\n",
       "8. **Obstructing the Field**: The batsman intentionally blocks or interferes with the fielding side by word or action.\n",
       "\n",
       "9. **Handled the Ball**: (Now merged with \"Obstructing the Field\") The batsman deliberately touches the ball with a hand that is not in contact with the bat without the consent of the fielding side.\n",
       "\n",
       "10. **Timed Out**: The next batsman does not arrive at the crease within a stipulated time after a wicket has fallen.\n",
       "\n",
       "---\n",
       "\n",
       "### **Baseball**\n",
       "\n",
       "In baseball, an **out** is recorded when certain defensive plays are successfully made against the offensive team. Here are the primary ways a batter or base runner can be put out:\n",
       "\n",
       "1. **Strikeout**:\n",
       "   - **Swinging Strikeout**: The batter swings and misses.\n",
       "   - **Called Strikeout**: The batter does not swing at a pitch that is called a strike by the umpire.\n",
       "\n",
       "2. **Fly Out**: A fielder catches a batted ball before it touches the ground.\n",
       "\n",
       "3. **Ground Out**: The batter hits a ground ball and the ball is fielded and thrown to first base before the batter arrives.\n",
       "\n",
       "4. **Force Out**: A runner is forced to advance to the next base due to the batter becoming a runner, and the defensive team successfully tags that base before the runner arrives.\n",
       "\n",
       "5. **Tag Out**: A fielder tags the runner with the ball when the runner is not on a base.\n",
       "\n",
       "6. **Double Play**: Two outs are recorded in a single continuous play, typically involving force outs or tag outs.\n",
       "\n",
       "7. **Triple Play**: Three outs are recorded in a single continuous play, which is rare.\n",
       "\n",
       "8. **Fielder’s Choice**: The fielder chooses to put out a runner instead of the batter.\n",
       "\n",
       "9. **Interference**: The batter interferes with the play, or a coach or runner interferes, leading to an out.\n",
       "\n",
       "---\n",
       "\n",
       "### **Summary**\n",
       "\n",
       "- **Cricket**: There are **10 recognized ways** a batsman can be dismissed.\n",
       "- **Baseball**: There are **multiple ways** to record an out, including strikeouts, fly outs, ground outs, force outs, tag outs, double plays, triple plays, fielder’s choice, and interference.\n",
       "\n",
       "The specific rules and nuances can vary depending on the level of play and specific league regulations, but the above outlines the primary methods in each sport."
      ],
      "text/plain": [
       "<IPython.core.display.Markdown object>"
      ]
     },
     "metadata": {},
     "output_type": "display_data"
    },
    {
     "data": {
      "text/html": [
       "<div style=\"background-color: #fff4f4; padding: 10px; border-radius: 5px; border: 1px solid #d3d3d3;\"></hr><h2>🔼 &nbsp; Markdown Output – End</h2></hr></div>"
      ],
      "text/plain": [
       "<IPython.core.display.HTML object>"
      ]
     },
     "metadata": {},
     "output_type": "display_data"
    }
   ],
   "source": [
    "display(HTML('<div style=\"background-color: #f0fff8; padding: 10px; border-radius: 5px; border: 1px solid #d3d3d3;\"></hr><h2>🔽 &nbsp; Markdown Output – Beginning</h2></hr></div>'))\n",
    "display(Markdown(response_o1.choices[0].message.content))\n",
    "display(HTML('<div style=\"background-color: #fff4f4; padding: 10px; border-radius: 5px; border: 1px solid #d3d3d3;\"></hr><h2>🔼 &nbsp; Markdown Output – End</h2></hr></div>'))"
   ]
  }
 ],
 "metadata": {
  "kernelspec": {
   "display_name": "Python 3",
   "language": "python",
   "name": "python3"
  },
  "language_info": {
   "codemirror_mode": {
    "name": "ipython",
    "version": 3
   },
   "file_extension": ".py",
   "mimetype": "text/x-python",
   "name": "python",
   "nbconvert_exporter": "python",
   "pygments_lexer": "ipython3",
   "version": "3.13.1"
  }
 },
 "nbformat": 4,
 "nbformat_minor": 2
}
